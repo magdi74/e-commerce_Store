{
 "cells": [
  {
   "cell_type": "markdown",
   "id": "1bbce928",
   "metadata": {},
   "source": [
    "# Import libarires"
   ]
  },
  {
   "cell_type": "code",
   "execution_count": 1,
   "id": "35ad2dba",
   "metadata": {},
   "outputs": [],
   "source": [
    "import mysql.connector\n",
    "import os\n",
    "import pandas as pd\n",
    "import matplotlib.pyplot as plt"
   ]
  },
  {
   "cell_type": "markdown",
   "id": "6255d144",
   "metadata": {},
   "source": [
    "# Connecting to MySQL"
   ]
  },
  {
   "cell_type": "code",
   "execution_count": 2,
   "id": "7cc5103b",
   "metadata": {},
   "outputs": [],
   "source": [
    "mydb = mysql.connector.connect(host='localhost',user='root',password='mypass',database='eco',use_pure=True)\n",
    "cursor = mydb.cursor()"
   ]
  },
  {
   "cell_type": "code",
   "execution_count": 3,
   "id": "5e03efc0",
   "metadata": {
    "scrolled": true
   },
   "outputs": [
    {
     "name": "stdout",
     "output_type": "stream",
     "text": [
      "('categories',)\n",
      "('customers',)\n",
      "('geolocation',)\n",
      "('orderitems',)\n",
      "('orderpayments',)\n",
      "('orders',)\n",
      "('products',)\n",
      "('reviews',)\n",
      "('sellers',)\n"
     ]
    }
   ],
   "source": [
    "# check the database table name\n",
    "tables = 'show tables'\n",
    "cursor.execute(tables)\n",
    "tables = cursor.fetchall()\n",
    "\n",
    "for i in tables:\n",
    "    print(i)"
   ]
  },
  {
   "cell_type": "code",
   "execution_count": 4,
   "id": "7310b64a",
   "metadata": {},
   "outputs": [],
   "source": [
    "# selecting the data tables from MySQL using SQL queries\n",
    "query1 = 'select * from categories'\n",
    "query2 = 'select * from customers'\n",
    "query3 = 'select * from geolocation'\n",
    "query4 = 'select * from orderitems'\n",
    "query5 = 'select * from orderpayments'\n",
    "query6 = 'select * from orders'\n",
    "query7 = 'select * from products'\n",
    "query8 = 'select * from sellers'\n",
    "query9 = 'select * from reviews'"
   ]
  },
  {
   "cell_type": "markdown",
   "id": "8021bf58",
   "metadata": {},
   "source": [
    "# Reading the data"
   ]
  },
  {
   "cell_type": "code",
   "execution_count": 5,
   "id": "07c2afe6",
   "metadata": {},
   "outputs": [
    {
     "name": "stderr",
     "output_type": "stream",
     "text": [
      "C:\\Users\\User\\anaconda3\\lib\\site-packages\\pandas\\io\\sql.py:761: UserWarning: pandas only support SQLAlchemy connectable(engine/connection) ordatabase string URI or sqlite3 DBAPI2 connectionother DBAPI2 objects are not tested, please consider using SQLAlchemy\n",
      "  warnings.warn(\n",
      "C:\\Users\\User\\anaconda3\\lib\\site-packages\\pandas\\io\\sql.py:761: UserWarning: pandas only support SQLAlchemy connectable(engine/connection) ordatabase string URI or sqlite3 DBAPI2 connectionother DBAPI2 objects are not tested, please consider using SQLAlchemy\n",
      "  warnings.warn(\n",
      "C:\\Users\\User\\anaconda3\\lib\\site-packages\\pandas\\io\\sql.py:761: UserWarning: pandas only support SQLAlchemy connectable(engine/connection) ordatabase string URI or sqlite3 DBAPI2 connectionother DBAPI2 objects are not tested, please consider using SQLAlchemy\n",
      "  warnings.warn(\n",
      "C:\\Users\\User\\anaconda3\\lib\\site-packages\\pandas\\io\\sql.py:761: UserWarning: pandas only support SQLAlchemy connectable(engine/connection) ordatabase string URI or sqlite3 DBAPI2 connectionother DBAPI2 objects are not tested, please consider using SQLAlchemy\n",
      "  warnings.warn(\n",
      "C:\\Users\\User\\anaconda3\\lib\\site-packages\\pandas\\io\\sql.py:761: UserWarning: pandas only support SQLAlchemy connectable(engine/connection) ordatabase string URI or sqlite3 DBAPI2 connectionother DBAPI2 objects are not tested, please consider using SQLAlchemy\n",
      "  warnings.warn(\n",
      "C:\\Users\\User\\anaconda3\\lib\\site-packages\\pandas\\io\\sql.py:761: UserWarning: pandas only support SQLAlchemy connectable(engine/connection) ordatabase string URI or sqlite3 DBAPI2 connectionother DBAPI2 objects are not tested, please consider using SQLAlchemy\n",
      "  warnings.warn(\n",
      "C:\\Users\\User\\anaconda3\\lib\\site-packages\\pandas\\io\\sql.py:761: UserWarning: pandas only support SQLAlchemy connectable(engine/connection) ordatabase string URI or sqlite3 DBAPI2 connectionother DBAPI2 objects are not tested, please consider using SQLAlchemy\n",
      "  warnings.warn(\n",
      "C:\\Users\\User\\anaconda3\\lib\\site-packages\\pandas\\io\\sql.py:761: UserWarning: pandas only support SQLAlchemy connectable(engine/connection) ordatabase string URI or sqlite3 DBAPI2 connectionother DBAPI2 objects are not tested, please consider using SQLAlchemy\n",
      "  warnings.warn(\n",
      "C:\\Users\\User\\anaconda3\\lib\\site-packages\\pandas\\io\\sql.py:761: UserWarning: pandas only support SQLAlchemy connectable(engine/connection) ordatabase string URI or sqlite3 DBAPI2 connectionother DBAPI2 objects are not tested, please consider using SQLAlchemy\n",
      "  warnings.warn(\n"
     ]
    }
   ],
   "source": [
    "df_cat = pd.read_sql(query1, mydb)\n",
    "df_cust = pd.read_sql(query2, mydb)\n",
    "df_geo = pd.read_sql(query3, mydb)\n",
    "df_oditems = pd.read_sql(query4, mydb)\n",
    "df_odpay = pd.read_sql(query5, mydb)\n",
    "df_od = pd.read_sql(query6, mydb)\n",
    "df_pro = pd.read_sql(query7, mydb)\n",
    "df_sell = pd.read_sql(query8, mydb)\n",
    "df_rev = pd.read_sql(query9, mydb)"
   ]
  },
  {
   "cell_type": "code",
   "execution_count": 6,
   "id": "7cbcceb1",
   "metadata": {
    "scrolled": true
   },
   "outputs": [
    {
     "data": {
      "text/html": [
       "<div>\n",
       "<style scoped>\n",
       "    .dataframe tbody tr th:only-of-type {\n",
       "        vertical-align: middle;\n",
       "    }\n",
       "\n",
       "    .dataframe tbody tr th {\n",
       "        vertical-align: top;\n",
       "    }\n",
       "\n",
       "    .dataframe thead th {\n",
       "        text-align: right;\n",
       "    }\n",
       "</style>\n",
       "<table border=\"1\" class=\"dataframe\">\n",
       "  <thead>\n",
       "    <tr style=\"text-align: right;\">\n",
       "      <th></th>\n",
       "      <th>ï»¿product_category_name</th>\n",
       "      <th>product_category_name_english</th>\n",
       "    </tr>\n",
       "  </thead>\n",
       "  <tbody>\n",
       "    <tr>\n",
       "      <th>0</th>\n",
       "      <td>beleza_saude</td>\n",
       "      <td>health_beauty\\r</td>\n",
       "    </tr>\n",
       "    <tr>\n",
       "      <th>1</th>\n",
       "      <td>informatica_acessorios</td>\n",
       "      <td>computers_accessories\\r</td>\n",
       "    </tr>\n",
       "    <tr>\n",
       "      <th>2</th>\n",
       "      <td>automotivo</td>\n",
       "      <td>auto\\r</td>\n",
       "    </tr>\n",
       "    <tr>\n",
       "      <th>3</th>\n",
       "      <td>cama_mesa_banho</td>\n",
       "      <td>bed_bath_table\\r</td>\n",
       "    </tr>\n",
       "    <tr>\n",
       "      <th>4</th>\n",
       "      <td>moveis_decoracao</td>\n",
       "      <td>furniture_decor\\r</td>\n",
       "    </tr>\n",
       "  </tbody>\n",
       "</table>\n",
       "</div>"
      ],
      "text/plain": [
       "  ï»¿product_category_name product_category_name_english\n",
       "0             beleza_saude               health_beauty\\r\n",
       "1   informatica_acessorios       computers_accessories\\r\n",
       "2               automotivo                        auto\\r\n",
       "3          cama_mesa_banho              bed_bath_table\\r\n",
       "4         moveis_decoracao             furniture_decor\\r"
      ]
     },
     "execution_count": 6,
     "metadata": {},
     "output_type": "execute_result"
    }
   ],
   "source": [
    "df_cat.head()"
   ]
  },
  {
   "cell_type": "code",
   "execution_count": 7,
   "id": "d8a08426",
   "metadata": {},
   "outputs": [
    {
     "data": {
      "text/html": [
       "<div>\n",
       "<style scoped>\n",
       "    .dataframe tbody tr th:only-of-type {\n",
       "        vertical-align: middle;\n",
       "    }\n",
       "\n",
       "    .dataframe tbody tr th {\n",
       "        vertical-align: top;\n",
       "    }\n",
       "\n",
       "    .dataframe thead th {\n",
       "        text-align: right;\n",
       "    }\n",
       "</style>\n",
       "<table border=\"1\" class=\"dataframe\">\n",
       "  <thead>\n",
       "    <tr style=\"text-align: right;\">\n",
       "      <th></th>\n",
       "      <th>\"customer_id\"</th>\n",
       "      <th>\"customer_unique_id\"</th>\n",
       "      <th>\"customer_zip_code_prefix\"</th>\n",
       "      <th>\"customer_city\"</th>\n",
       "      <th>\"customer_state\"</th>\n",
       "    </tr>\n",
       "  </thead>\n",
       "  <tbody>\n",
       "    <tr>\n",
       "      <th>0</th>\n",
       "      <td>06b8999e2fba1a1fbc88172c00ba8bc7</td>\n",
       "      <td>861eff4711a542e4b93843c6dd7febb0</td>\n",
       "      <td>14409</td>\n",
       "      <td>franca</td>\n",
       "      <td>SP</td>\n",
       "    </tr>\n",
       "    <tr>\n",
       "      <th>1</th>\n",
       "      <td>18955e83d337fd6b2def6b18a428ac77</td>\n",
       "      <td>290c77bc529b7ac935b93aa66c333dc3</td>\n",
       "      <td>09790</td>\n",
       "      <td>sao bernardo do campo</td>\n",
       "      <td>SP</td>\n",
       "    </tr>\n",
       "    <tr>\n",
       "      <th>2</th>\n",
       "      <td>4e7b3e00288586ebd08712fdd0374a03</td>\n",
       "      <td>060e732b5b29e8181a18229c7b0b2b5e</td>\n",
       "      <td>01151</td>\n",
       "      <td>sao paulo</td>\n",
       "      <td>SP</td>\n",
       "    </tr>\n",
       "    <tr>\n",
       "      <th>3</th>\n",
       "      <td>b2b6027bc5c5109e529d4dc6358b12c3</td>\n",
       "      <td>259dac757896d24d7702b9acbbff3f3c</td>\n",
       "      <td>08775</td>\n",
       "      <td>mogi das cruzes</td>\n",
       "      <td>SP</td>\n",
       "    </tr>\n",
       "    <tr>\n",
       "      <th>4</th>\n",
       "      <td>4f2d8ab171c80ec8364f7c12e35b23ad</td>\n",
       "      <td>345ecd01c38d18a9036ed96c73b8d066</td>\n",
       "      <td>13056</td>\n",
       "      <td>campinas</td>\n",
       "      <td>SP</td>\n",
       "    </tr>\n",
       "  </tbody>\n",
       "</table>\n",
       "</div>"
      ],
      "text/plain": [
       "                      \"customer_id\"              \"customer_unique_id\"  \\\n",
       "0  06b8999e2fba1a1fbc88172c00ba8bc7  861eff4711a542e4b93843c6dd7febb0   \n",
       "1  18955e83d337fd6b2def6b18a428ac77  290c77bc529b7ac935b93aa66c333dc3   \n",
       "2  4e7b3e00288586ebd08712fdd0374a03  060e732b5b29e8181a18229c7b0b2b5e   \n",
       "3  b2b6027bc5c5109e529d4dc6358b12c3  259dac757896d24d7702b9acbbff3f3c   \n",
       "4  4f2d8ab171c80ec8364f7c12e35b23ad  345ecd01c38d18a9036ed96c73b8d066   \n",
       "\n",
       "  \"customer_zip_code_prefix\"        \"customer_city\" \"customer_state\"  \n",
       "0                      14409                 franca               SP  \n",
       "1                      09790  sao bernardo do campo               SP  \n",
       "2                      01151              sao paulo               SP  \n",
       "3                      08775        mogi das cruzes               SP  \n",
       "4                      13056               campinas               SP  "
      ]
     },
     "execution_count": 7,
     "metadata": {},
     "output_type": "execute_result"
    }
   ],
   "source": [
    "df_cust.head()"
   ]
  },
  {
   "cell_type": "code",
   "execution_count": 8,
   "id": "c8fd3749",
   "metadata": {},
   "outputs": [
    {
     "data": {
      "text/html": [
       "<div>\n",
       "<style scoped>\n",
       "    .dataframe tbody tr th:only-of-type {\n",
       "        vertical-align: middle;\n",
       "    }\n",
       "\n",
       "    .dataframe tbody tr th {\n",
       "        vertical-align: top;\n",
       "    }\n",
       "\n",
       "    .dataframe thead th {\n",
       "        text-align: right;\n",
       "    }\n",
       "</style>\n",
       "<table border=\"1\" class=\"dataframe\">\n",
       "  <thead>\n",
       "    <tr style=\"text-align: right;\">\n",
       "      <th></th>\n",
       "      <th>\"geolocation_zip_code_prefix\"</th>\n",
       "      <th>\"geolocation_lat\"</th>\n",
       "      <th>\"geolocation_lng\"</th>\n",
       "      <th>\"geolocation_city\"</th>\n",
       "      <th>\"geolocation_state\"</th>\n",
       "    </tr>\n",
       "  </thead>\n",
       "  <tbody>\n",
       "    <tr>\n",
       "      <th>0</th>\n",
       "      <td>01037</td>\n",
       "      <td>-23.54562128115268</td>\n",
       "      <td>-46.63929204800168</td>\n",
       "      <td>sao paulo</td>\n",
       "      <td>SP</td>\n",
       "    </tr>\n",
       "    <tr>\n",
       "      <th>1</th>\n",
       "      <td>01046</td>\n",
       "      <td>-23.546081127035535</td>\n",
       "      <td>-46.64482029837157</td>\n",
       "      <td>sao paulo</td>\n",
       "      <td>SP</td>\n",
       "    </tr>\n",
       "    <tr>\n",
       "      <th>2</th>\n",
       "      <td>01046</td>\n",
       "      <td>-23.54612896641469</td>\n",
       "      <td>-46.64295148361138</td>\n",
       "      <td>sao paulo</td>\n",
       "      <td>SP</td>\n",
       "    </tr>\n",
       "    <tr>\n",
       "      <th>3</th>\n",
       "      <td>01041</td>\n",
       "      <td>-23.5443921648681</td>\n",
       "      <td>-46.63949930627844</td>\n",
       "      <td>sao paulo</td>\n",
       "      <td>SP</td>\n",
       "    </tr>\n",
       "    <tr>\n",
       "      <th>4</th>\n",
       "      <td>01035</td>\n",
       "      <td>-23.541577961711493</td>\n",
       "      <td>-46.64160722329613</td>\n",
       "      <td>sao paulo</td>\n",
       "      <td>SP</td>\n",
       "    </tr>\n",
       "  </tbody>\n",
       "</table>\n",
       "</div>"
      ],
      "text/plain": [
       "  \"geolocation_zip_code_prefix\"    \"geolocation_lat\"   \"geolocation_lng\"  \\\n",
       "0                         01037   -23.54562128115268  -46.63929204800168   \n",
       "1                         01046  -23.546081127035535  -46.64482029837157   \n",
       "2                         01046   -23.54612896641469  -46.64295148361138   \n",
       "3                         01041    -23.5443921648681  -46.63949930627844   \n",
       "4                         01035  -23.541577961711493  -46.64160722329613   \n",
       "\n",
       "  \"geolocation_city\" \"geolocation_state\"  \n",
       "0          sao paulo                  SP  \n",
       "1          sao paulo                  SP  \n",
       "2          sao paulo                  SP  \n",
       "3          sao paulo                  SP  \n",
       "4          sao paulo                  SP  "
      ]
     },
     "execution_count": 8,
     "metadata": {},
     "output_type": "execute_result"
    }
   ],
   "source": [
    "df_geo.head()"
   ]
  },
  {
   "cell_type": "code",
   "execution_count": 9,
   "id": "649050d2",
   "metadata": {},
   "outputs": [
    {
     "data": {
      "text/html": [
       "<div>\n",
       "<style scoped>\n",
       "    .dataframe tbody tr th:only-of-type {\n",
       "        vertical-align: middle;\n",
       "    }\n",
       "\n",
       "    .dataframe tbody tr th {\n",
       "        vertical-align: top;\n",
       "    }\n",
       "\n",
       "    .dataframe thead th {\n",
       "        text-align: right;\n",
       "    }\n",
       "</style>\n",
       "<table border=\"1\" class=\"dataframe\">\n",
       "  <thead>\n",
       "    <tr style=\"text-align: right;\">\n",
       "      <th></th>\n",
       "      <th>\"order_id\"</th>\n",
       "      <th>\"order_item_id\"</th>\n",
       "      <th>\"product_id\"</th>\n",
       "      <th>\"seller_id\"</th>\n",
       "      <th>\"shipping_limit_date\"</th>\n",
       "      <th>\"price\"</th>\n",
       "      <th>\"freight_value\"</th>\n",
       "    </tr>\n",
       "  </thead>\n",
       "  <tbody>\n",
       "    <tr>\n",
       "      <th>0</th>\n",
       "      <td>00010242fe8c5a6d1ba2dd792cb16214</td>\n",
       "      <td>1</td>\n",
       "      <td>4244733e06e7ecb4970a6e2683c13e61</td>\n",
       "      <td>48436dade18ac8b2bce089ec2a041202</td>\n",
       "      <td>2017-09-19 09:45:35</td>\n",
       "      <td>58.90</td>\n",
       "      <td>13.29</td>\n",
       "    </tr>\n",
       "    <tr>\n",
       "      <th>1</th>\n",
       "      <td>00018f77f2f0320c557190d7a144bdd3</td>\n",
       "      <td>1</td>\n",
       "      <td>e5f2d52b802189ee658865ca93d83a8f</td>\n",
       "      <td>dd7ddc04e1b6c2c614352b383efe2d36</td>\n",
       "      <td>2017-05-03 11:05:13</td>\n",
       "      <td>239.90</td>\n",
       "      <td>19.93</td>\n",
       "    </tr>\n",
       "    <tr>\n",
       "      <th>2</th>\n",
       "      <td>000229ec398224ef6ca0657da4fc703e</td>\n",
       "      <td>1</td>\n",
       "      <td>c777355d18b72b67abbeef9df44fd0fd</td>\n",
       "      <td>5b51032eddd242adc84c38acab88f23d</td>\n",
       "      <td>2018-01-18 14:48:30</td>\n",
       "      <td>199.00</td>\n",
       "      <td>17.87</td>\n",
       "    </tr>\n",
       "    <tr>\n",
       "      <th>3</th>\n",
       "      <td>00024acbcdf0a6daa1e931b038114c75</td>\n",
       "      <td>1</td>\n",
       "      <td>7634da152a4610f1595efa32f14722fc</td>\n",
       "      <td>9d7a1d34a5052409006425275ba1c2b4</td>\n",
       "      <td>2018-08-15 10:10:18</td>\n",
       "      <td>12.99</td>\n",
       "      <td>12.79</td>\n",
       "    </tr>\n",
       "    <tr>\n",
       "      <th>4</th>\n",
       "      <td>00042b26cf59d7ce69dfabb4e55b4fd9</td>\n",
       "      <td>1</td>\n",
       "      <td>ac6c3623068f30de03045865e4e10089</td>\n",
       "      <td>df560393f3a51e74553ab94004ba5c87</td>\n",
       "      <td>2017-02-13 13:57:51</td>\n",
       "      <td>199.90</td>\n",
       "      <td>18.14</td>\n",
       "    </tr>\n",
       "  </tbody>\n",
       "</table>\n",
       "</div>"
      ],
      "text/plain": [
       "                         \"order_id\" \"order_item_id\"  \\\n",
       "0  00010242fe8c5a6d1ba2dd792cb16214               1   \n",
       "1  00018f77f2f0320c557190d7a144bdd3               1   \n",
       "2  000229ec398224ef6ca0657da4fc703e               1   \n",
       "3  00024acbcdf0a6daa1e931b038114c75               1   \n",
       "4  00042b26cf59d7ce69dfabb4e55b4fd9               1   \n",
       "\n",
       "                       \"product_id\"                       \"seller_id\"  \\\n",
       "0  4244733e06e7ecb4970a6e2683c13e61  48436dade18ac8b2bce089ec2a041202   \n",
       "1  e5f2d52b802189ee658865ca93d83a8f  dd7ddc04e1b6c2c614352b383efe2d36   \n",
       "2  c777355d18b72b67abbeef9df44fd0fd  5b51032eddd242adc84c38acab88f23d   \n",
       "3  7634da152a4610f1595efa32f14722fc  9d7a1d34a5052409006425275ba1c2b4   \n",
       "4  ac6c3623068f30de03045865e4e10089  df560393f3a51e74553ab94004ba5c87   \n",
       "\n",
       "  \"shipping_limit_date\" \"price\" \"freight_value\"  \n",
       "0   2017-09-19 09:45:35   58.90           13.29  \n",
       "1   2017-05-03 11:05:13  239.90           19.93  \n",
       "2   2018-01-18 14:48:30  199.00           17.87  \n",
       "3   2018-08-15 10:10:18   12.99           12.79  \n",
       "4   2017-02-13 13:57:51  199.90           18.14  "
      ]
     },
     "execution_count": 9,
     "metadata": {},
     "output_type": "execute_result"
    }
   ],
   "source": [
    "df_oditems.head()"
   ]
  },
  {
   "cell_type": "code",
   "execution_count": 10,
   "id": "aae1521d",
   "metadata": {
    "scrolled": true
   },
   "outputs": [
    {
     "data": {
      "text/html": [
       "<div>\n",
       "<style scoped>\n",
       "    .dataframe tbody tr th:only-of-type {\n",
       "        vertical-align: middle;\n",
       "    }\n",
       "\n",
       "    .dataframe tbody tr th {\n",
       "        vertical-align: top;\n",
       "    }\n",
       "\n",
       "    .dataframe thead th {\n",
       "        text-align: right;\n",
       "    }\n",
       "</style>\n",
       "<table border=\"1\" class=\"dataframe\">\n",
       "  <thead>\n",
       "    <tr style=\"text-align: right;\">\n",
       "      <th></th>\n",
       "      <th>\"order_id\"</th>\n",
       "      <th>\"payment_sequential\"</th>\n",
       "      <th>\"payment_type\"</th>\n",
       "      <th>\"payment_installments\"</th>\n",
       "      <th>\"payment_value\"</th>\n",
       "    </tr>\n",
       "  </thead>\n",
       "  <tbody>\n",
       "    <tr>\n",
       "      <th>0</th>\n",
       "      <td>b81ef226f3fe1789b1e8b2acac839d17</td>\n",
       "      <td>1</td>\n",
       "      <td>credit_card</td>\n",
       "      <td>8</td>\n",
       "      <td>99.33</td>\n",
       "    </tr>\n",
       "    <tr>\n",
       "      <th>1</th>\n",
       "      <td>a9810da82917af2d9aefd1278f1dcfa0</td>\n",
       "      <td>1</td>\n",
       "      <td>credit_card</td>\n",
       "      <td>1</td>\n",
       "      <td>24.39</td>\n",
       "    </tr>\n",
       "    <tr>\n",
       "      <th>2</th>\n",
       "      <td>25e8ea4e93396b6fa0d3dd708e76c1bd</td>\n",
       "      <td>1</td>\n",
       "      <td>credit_card</td>\n",
       "      <td>1</td>\n",
       "      <td>65.71</td>\n",
       "    </tr>\n",
       "    <tr>\n",
       "      <th>3</th>\n",
       "      <td>ba78997921bbcdc1373bb41e913ab953</td>\n",
       "      <td>1</td>\n",
       "      <td>credit_card</td>\n",
       "      <td>8</td>\n",
       "      <td>107.78</td>\n",
       "    </tr>\n",
       "    <tr>\n",
       "      <th>4</th>\n",
       "      <td>42fdf880ba16b47b59251dd489d4441a</td>\n",
       "      <td>1</td>\n",
       "      <td>credit_card</td>\n",
       "      <td>2</td>\n",
       "      <td>128.45</td>\n",
       "    </tr>\n",
       "  </tbody>\n",
       "</table>\n",
       "</div>"
      ],
      "text/plain": [
       "                         \"order_id\" \"payment_sequential\" \"payment_type\"  \\\n",
       "0  b81ef226f3fe1789b1e8b2acac839d17                    1    credit_card   \n",
       "1  a9810da82917af2d9aefd1278f1dcfa0                    1    credit_card   \n",
       "2  25e8ea4e93396b6fa0d3dd708e76c1bd                    1    credit_card   \n",
       "3  ba78997921bbcdc1373bb41e913ab953                    1    credit_card   \n",
       "4  42fdf880ba16b47b59251dd489d4441a                    1    credit_card   \n",
       "\n",
       "  \"payment_installments\" \"payment_value\"  \n",
       "0                      8           99.33  \n",
       "1                      1           24.39  \n",
       "2                      1           65.71  \n",
       "3                      8          107.78  \n",
       "4                      2          128.45  "
      ]
     },
     "execution_count": 10,
     "metadata": {},
     "output_type": "execute_result"
    }
   ],
   "source": [
    "df_odpay.head()"
   ]
  },
  {
   "cell_type": "code",
   "execution_count": 11,
   "id": "e9dcf0f3",
   "metadata": {},
   "outputs": [
    {
     "data": {
      "text/html": [
       "<div>\n",
       "<style scoped>\n",
       "    .dataframe tbody tr th:only-of-type {\n",
       "        vertical-align: middle;\n",
       "    }\n",
       "\n",
       "    .dataframe tbody tr th {\n",
       "        vertical-align: top;\n",
       "    }\n",
       "\n",
       "    .dataframe thead th {\n",
       "        text-align: right;\n",
       "    }\n",
       "</style>\n",
       "<table border=\"1\" class=\"dataframe\">\n",
       "  <thead>\n",
       "    <tr style=\"text-align: right;\">\n",
       "      <th></th>\n",
       "      <th>order_id</th>\n",
       "      <th>customer_id</th>\n",
       "      <th>order_status</th>\n",
       "      <th>order_purchase_timestamp</th>\n",
       "      <th>order_approved_at</th>\n",
       "      <th>order_delivered_carrier_date</th>\n",
       "      <th>order_delivered_customer_date</th>\n",
       "      <th>order_estimated_delivery_date</th>\n",
       "    </tr>\n",
       "  </thead>\n",
       "  <tbody>\n",
       "    <tr>\n",
       "      <th>0</th>\n",
       "      <td>e481f51cbdc54678b7cc49136f2d6af7</td>\n",
       "      <td>9ef432eb6251297304e76186b10a928d</td>\n",
       "      <td>delivered</td>\n",
       "      <td>10/2/2017 10:56</td>\n",
       "      <td>10/2/2017 11:07</td>\n",
       "      <td>10/4/2017 19:55</td>\n",
       "      <td>10/10/2017 21:25</td>\n",
       "      <td>10/18/2017 0:00\\r</td>\n",
       "    </tr>\n",
       "    <tr>\n",
       "      <th>1</th>\n",
       "      <td>53cdb2fc8bc7dce0b6741e2150273451</td>\n",
       "      <td>b0830fb4747a6c6d20dea0b8c802d7ef</td>\n",
       "      <td>delivered</td>\n",
       "      <td>7/24/2018 20:41</td>\n",
       "      <td>7/26/2018 3:24</td>\n",
       "      <td>7/26/2018 14:31</td>\n",
       "      <td>8/7/2018 15:27</td>\n",
       "      <td>8/13/2018 0:00\\r</td>\n",
       "    </tr>\n",
       "    <tr>\n",
       "      <th>2</th>\n",
       "      <td>47770eb9100c2d0c44946d9cf07ec65d</td>\n",
       "      <td>41ce2a54c0b03bf3443c3d931a367089</td>\n",
       "      <td>delivered</td>\n",
       "      <td>8/8/2018 8:38</td>\n",
       "      <td>8/8/2018 8:55</td>\n",
       "      <td>8/8/2018 13:50</td>\n",
       "      <td>8/17/2018 18:06</td>\n",
       "      <td>9/4/2018 0:00\\r</td>\n",
       "    </tr>\n",
       "    <tr>\n",
       "      <th>3</th>\n",
       "      <td>949d5b44dbf5de918fe9c16f97b45f8a</td>\n",
       "      <td>f88197465ea7920adcdbec7375364d82</td>\n",
       "      <td>delivered</td>\n",
       "      <td>11/18/2017 19:28</td>\n",
       "      <td>11/18/2017 19:45</td>\n",
       "      <td>11/22/2017 13:39</td>\n",
       "      <td>12/2/2017 0:28</td>\n",
       "      <td>12/15/2017 0:00\\r</td>\n",
       "    </tr>\n",
       "    <tr>\n",
       "      <th>4</th>\n",
       "      <td>ad21c59c0840e6cb83a9ceb5573f8159</td>\n",
       "      <td>8ab97904e6daea8866dbdbc4fb7aad2c</td>\n",
       "      <td>delivered</td>\n",
       "      <td>2/13/2018 21:18</td>\n",
       "      <td>2/13/2018 22:20</td>\n",
       "      <td>2/14/2018 19:46</td>\n",
       "      <td>2/16/2018 18:17</td>\n",
       "      <td>2/26/2018 0:00\\r</td>\n",
       "    </tr>\n",
       "  </tbody>\n",
       "</table>\n",
       "</div>"
      ],
      "text/plain": [
       "                           order_id                       customer_id  \\\n",
       "0  e481f51cbdc54678b7cc49136f2d6af7  9ef432eb6251297304e76186b10a928d   \n",
       "1  53cdb2fc8bc7dce0b6741e2150273451  b0830fb4747a6c6d20dea0b8c802d7ef   \n",
       "2  47770eb9100c2d0c44946d9cf07ec65d  41ce2a54c0b03bf3443c3d931a367089   \n",
       "3  949d5b44dbf5de918fe9c16f97b45f8a  f88197465ea7920adcdbec7375364d82   \n",
       "4  ad21c59c0840e6cb83a9ceb5573f8159  8ab97904e6daea8866dbdbc4fb7aad2c   \n",
       "\n",
       "  order_status order_purchase_timestamp order_approved_at  \\\n",
       "0    delivered          10/2/2017 10:56   10/2/2017 11:07   \n",
       "1    delivered          7/24/2018 20:41    7/26/2018 3:24   \n",
       "2    delivered            8/8/2018 8:38     8/8/2018 8:55   \n",
       "3    delivered         11/18/2017 19:28  11/18/2017 19:45   \n",
       "4    delivered          2/13/2018 21:18   2/13/2018 22:20   \n",
       "\n",
       "  order_delivered_carrier_date order_delivered_customer_date  \\\n",
       "0              10/4/2017 19:55              10/10/2017 21:25   \n",
       "1              7/26/2018 14:31                8/7/2018 15:27   \n",
       "2               8/8/2018 13:50               8/17/2018 18:06   \n",
       "3             11/22/2017 13:39                12/2/2017 0:28   \n",
       "4              2/14/2018 19:46               2/16/2018 18:17   \n",
       "\n",
       "  order_estimated_delivery_date  \n",
       "0             10/18/2017 0:00\\r  \n",
       "1              8/13/2018 0:00\\r  \n",
       "2               9/4/2018 0:00\\r  \n",
       "3             12/15/2017 0:00\\r  \n",
       "4              2/26/2018 0:00\\r  "
      ]
     },
     "execution_count": 11,
     "metadata": {},
     "output_type": "execute_result"
    }
   ],
   "source": [
    "df_od.head()"
   ]
  },
  {
   "cell_type": "code",
   "execution_count": 12,
   "id": "8b0b2746",
   "metadata": {},
   "outputs": [
    {
     "data": {
      "text/html": [
       "<div>\n",
       "<style scoped>\n",
       "    .dataframe tbody tr th:only-of-type {\n",
       "        vertical-align: middle;\n",
       "    }\n",
       "\n",
       "    .dataframe tbody tr th {\n",
       "        vertical-align: top;\n",
       "    }\n",
       "\n",
       "    .dataframe thead th {\n",
       "        text-align: right;\n",
       "    }\n",
       "</style>\n",
       "<table border=\"1\" class=\"dataframe\">\n",
       "  <thead>\n",
       "    <tr style=\"text-align: right;\">\n",
       "      <th></th>\n",
       "      <th>\"product_id\"</th>\n",
       "      <th>\"product_category_name\"</th>\n",
       "      <th>\"product_name_lenght\"</th>\n",
       "      <th>\"product_description_lenght\"</th>\n",
       "      <th>\"product_photos_qty\"</th>\n",
       "      <th>\"product_weight_g\"</th>\n",
       "      <th>\"product_length_cm\"</th>\n",
       "      <th>\"product_height_cm\"</th>\n",
       "      <th>\"product_width_cm\"</th>\n",
       "    </tr>\n",
       "  </thead>\n",
       "  <tbody>\n",
       "    <tr>\n",
       "      <th>0</th>\n",
       "      <td>1e9e8ef04dbcff4541ed26657ea517e5</td>\n",
       "      <td>perfumaria</td>\n",
       "      <td>40</td>\n",
       "      <td>287</td>\n",
       "      <td>1</td>\n",
       "      <td>225</td>\n",
       "      <td>16</td>\n",
       "      <td>10</td>\n",
       "      <td>14</td>\n",
       "    </tr>\n",
       "    <tr>\n",
       "      <th>1</th>\n",
       "      <td>3aa071139cb16b67ca9e5dea641aaa2f</td>\n",
       "      <td>artes</td>\n",
       "      <td>44</td>\n",
       "      <td>276</td>\n",
       "      <td>1</td>\n",
       "      <td>1000</td>\n",
       "      <td>30</td>\n",
       "      <td>18</td>\n",
       "      <td>20</td>\n",
       "    </tr>\n",
       "    <tr>\n",
       "      <th>2</th>\n",
       "      <td>96bd76ec8810374ed1b65e291975717f</td>\n",
       "      <td>esporte_lazer</td>\n",
       "      <td>46</td>\n",
       "      <td>250</td>\n",
       "      <td>1</td>\n",
       "      <td>154</td>\n",
       "      <td>18</td>\n",
       "      <td>9</td>\n",
       "      <td>15</td>\n",
       "    </tr>\n",
       "    <tr>\n",
       "      <th>3</th>\n",
       "      <td>cef67bcfe19066a932b7673e239eb23d</td>\n",
       "      <td>bebes</td>\n",
       "      <td>27</td>\n",
       "      <td>261</td>\n",
       "      <td>1</td>\n",
       "      <td>371</td>\n",
       "      <td>26</td>\n",
       "      <td>4</td>\n",
       "      <td>26</td>\n",
       "    </tr>\n",
       "    <tr>\n",
       "      <th>4</th>\n",
       "      <td>9dc1a7de274444849c219cff195d0b71</td>\n",
       "      <td>utilidades_domesticas</td>\n",
       "      <td>37</td>\n",
       "      <td>402</td>\n",
       "      <td>4</td>\n",
       "      <td>625</td>\n",
       "      <td>20</td>\n",
       "      <td>17</td>\n",
       "      <td>13</td>\n",
       "    </tr>\n",
       "  </tbody>\n",
       "</table>\n",
       "</div>"
      ],
      "text/plain": [
       "                       \"product_id\" \"product_category_name\"  \\\n",
       "0  1e9e8ef04dbcff4541ed26657ea517e5              perfumaria   \n",
       "1  3aa071139cb16b67ca9e5dea641aaa2f                   artes   \n",
       "2  96bd76ec8810374ed1b65e291975717f           esporte_lazer   \n",
       "3  cef67bcfe19066a932b7673e239eb23d                   bebes   \n",
       "4  9dc1a7de274444849c219cff195d0b71   utilidades_domesticas   \n",
       "\n",
       "  \"product_name_lenght\" \"product_description_lenght\" \"product_photos_qty\"  \\\n",
       "0                    40                          287                    1   \n",
       "1                    44                          276                    1   \n",
       "2                    46                          250                    1   \n",
       "3                    27                          261                    1   \n",
       "4                    37                          402                    4   \n",
       "\n",
       "  \"product_weight_g\" \"product_length_cm\" \"product_height_cm\"  \\\n",
       "0                225                  16                  10   \n",
       "1               1000                  30                  18   \n",
       "2                154                  18                   9   \n",
       "3                371                  26                   4   \n",
       "4                625                  20                  17   \n",
       "\n",
       "  \"product_width_cm\"  \n",
       "0                 14  \n",
       "1                 20  \n",
       "2                 15  \n",
       "3                 26  \n",
       "4                 13  "
      ]
     },
     "execution_count": 12,
     "metadata": {},
     "output_type": "execute_result"
    }
   ],
   "source": [
    "df_pro.head()"
   ]
  },
  {
   "cell_type": "code",
   "execution_count": 13,
   "id": "e3c57313",
   "metadata": {},
   "outputs": [
    {
     "data": {
      "text/html": [
       "<div>\n",
       "<style scoped>\n",
       "    .dataframe tbody tr th:only-of-type {\n",
       "        vertical-align: middle;\n",
       "    }\n",
       "\n",
       "    .dataframe tbody tr th {\n",
       "        vertical-align: top;\n",
       "    }\n",
       "\n",
       "    .dataframe thead th {\n",
       "        text-align: right;\n",
       "    }\n",
       "</style>\n",
       "<table border=\"1\" class=\"dataframe\">\n",
       "  <thead>\n",
       "    <tr style=\"text-align: right;\">\n",
       "      <th></th>\n",
       "      <th>\"seller_id\"</th>\n",
       "      <th>\"seller_zip_code_prefix\"</th>\n",
       "      <th>\"seller_city\"</th>\n",
       "      <th>\"seller_state\"</th>\n",
       "    </tr>\n",
       "  </thead>\n",
       "  <tbody>\n",
       "    <tr>\n",
       "      <th>0</th>\n",
       "      <td>3442f8959a84dea7ee197c632cb2df15</td>\n",
       "      <td>13023</td>\n",
       "      <td>campinas</td>\n",
       "      <td>SP</td>\n",
       "    </tr>\n",
       "    <tr>\n",
       "      <th>1</th>\n",
       "      <td>d1b65fc7debc3361ea86b5f14c68d2e2</td>\n",
       "      <td>13844</td>\n",
       "      <td>mogi guacu</td>\n",
       "      <td>SP</td>\n",
       "    </tr>\n",
       "    <tr>\n",
       "      <th>2</th>\n",
       "      <td>ce3ad9de960102d0677a81f5d0bb7b2d</td>\n",
       "      <td>20031</td>\n",
       "      <td>rio de janeiro</td>\n",
       "      <td>RJ</td>\n",
       "    </tr>\n",
       "    <tr>\n",
       "      <th>3</th>\n",
       "      <td>c0f3eea2e14555b6faeea3dd58c1b1c3</td>\n",
       "      <td>04195</td>\n",
       "      <td>sao paulo</td>\n",
       "      <td>SP</td>\n",
       "    </tr>\n",
       "    <tr>\n",
       "      <th>4</th>\n",
       "      <td>51a04a8a6bdcb23deccc82b0b80742cf</td>\n",
       "      <td>12914</td>\n",
       "      <td>braganca paulista</td>\n",
       "      <td>SP</td>\n",
       "    </tr>\n",
       "  </tbody>\n",
       "</table>\n",
       "</div>"
      ],
      "text/plain": [
       "                        \"seller_id\" \"seller_zip_code_prefix\"  \\\n",
       "0  3442f8959a84dea7ee197c632cb2df15                    13023   \n",
       "1  d1b65fc7debc3361ea86b5f14c68d2e2                    13844   \n",
       "2  ce3ad9de960102d0677a81f5d0bb7b2d                    20031   \n",
       "3  c0f3eea2e14555b6faeea3dd58c1b1c3                    04195   \n",
       "4  51a04a8a6bdcb23deccc82b0b80742cf                    12914   \n",
       "\n",
       "       \"seller_city\" \"seller_state\"  \n",
       "0           campinas             SP  \n",
       "1         mogi guacu             SP  \n",
       "2     rio de janeiro             RJ  \n",
       "3          sao paulo             SP  \n",
       "4  braganca paulista             SP  "
      ]
     },
     "execution_count": 13,
     "metadata": {},
     "output_type": "execute_result"
    }
   ],
   "source": [
    "df_sell.head()"
   ]
  },
  {
   "cell_type": "code",
   "execution_count": 14,
   "id": "f56c59ff",
   "metadata": {},
   "outputs": [
    {
     "data": {
      "text/html": [
       "<div>\n",
       "<style scoped>\n",
       "    .dataframe tbody tr th:only-of-type {\n",
       "        vertical-align: middle;\n",
       "    }\n",
       "\n",
       "    .dataframe tbody tr th {\n",
       "        vertical-align: top;\n",
       "    }\n",
       "\n",
       "    .dataframe thead th {\n",
       "        text-align: right;\n",
       "    }\n",
       "</style>\n",
       "<table border=\"1\" class=\"dataframe\">\n",
       "  <thead>\n",
       "    <tr style=\"text-align: right;\">\n",
       "      <th></th>\n",
       "      <th>review_id</th>\n",
       "      <th>order_id</th>\n",
       "      <th>review_score</th>\n",
       "      <th>review_comment_title</th>\n",
       "      <th>review_comment_message</th>\n",
       "      <th>review_creation_date</th>\n",
       "      <th>review_answer_timestamp</th>\n",
       "    </tr>\n",
       "  </thead>\n",
       "  <tbody>\n",
       "    <tr>\n",
       "      <th>0</th>\n",
       "      <td>7bc2406110b926393aa56f80a40eba40</td>\n",
       "      <td>73fc7af87114b39712e6da79b0a377eb</td>\n",
       "      <td>4</td>\n",
       "      <td></td>\n",
       "      <td></td>\n",
       "      <td>2018-01-18 00:00:00</td>\n",
       "      <td>2018-01-18 21:46:59</td>\n",
       "    </tr>\n",
       "    <tr>\n",
       "      <th>1</th>\n",
       "      <td>80e641a11e56f04c1ad469d5645fdfde</td>\n",
       "      <td>a548910a1c6147796b98fdf73dbeba33</td>\n",
       "      <td>5</td>\n",
       "      <td></td>\n",
       "      <td></td>\n",
       "      <td>2018-03-10 00:00:00</td>\n",
       "      <td>2018-03-11 03:05:13</td>\n",
       "    </tr>\n",
       "    <tr>\n",
       "      <th>2</th>\n",
       "      <td>228ce5500dc1d8e020d8d1322874b6f0</td>\n",
       "      <td>f9e4b658b201a9f2ecdecbb34bed034b</td>\n",
       "      <td>5</td>\n",
       "      <td></td>\n",
       "      <td></td>\n",
       "      <td>2018-02-17 00:00:00</td>\n",
       "      <td>2018-02-18 14:36:24</td>\n",
       "    </tr>\n",
       "    <tr>\n",
       "      <th>3</th>\n",
       "      <td>e64fb393e7b32834bb789ff8bb30750e</td>\n",
       "      <td>658677c97b385a9be170737859d3511b</td>\n",
       "      <td>5</td>\n",
       "      <td></td>\n",
       "      <td>Recebi bem antes do prazo estipulado.</td>\n",
       "      <td>2017-04-21 00:00:00</td>\n",
       "      <td>2017-04-21 22:02:06</td>\n",
       "    </tr>\n",
       "    <tr>\n",
       "      <th>4</th>\n",
       "      <td>f7c4243c7fe1938f181bec41a392bdeb</td>\n",
       "      <td>8e6bfb81e283fa7e4f11123a3fb894f1</td>\n",
       "      <td>5</td>\n",
       "      <td></td>\n",
       "      <td>ParabÃ©ns lojas lannister adorei comprar pela ...</td>\n",
       "      <td>2018-03-01 00:00:00</td>\n",
       "      <td>2018-03-02 10:26:53</td>\n",
       "    </tr>\n",
       "  </tbody>\n",
       "</table>\n",
       "</div>"
      ],
      "text/plain": [
       "                          review_id                          order_id  \\\n",
       "0  7bc2406110b926393aa56f80a40eba40  73fc7af87114b39712e6da79b0a377eb   \n",
       "1  80e641a11e56f04c1ad469d5645fdfde  a548910a1c6147796b98fdf73dbeba33   \n",
       "2  228ce5500dc1d8e020d8d1322874b6f0  f9e4b658b201a9f2ecdecbb34bed034b   \n",
       "3  e64fb393e7b32834bb789ff8bb30750e  658677c97b385a9be170737859d3511b   \n",
       "4  f7c4243c7fe1938f181bec41a392bdeb  8e6bfb81e283fa7e4f11123a3fb894f1   \n",
       "\n",
       "  review_score review_comment_title  \\\n",
       "0            4                        \n",
       "1            5                        \n",
       "2            5                        \n",
       "3            5                        \n",
       "4            5                        \n",
       "\n",
       "                              review_comment_message review_creation_date  \\\n",
       "0                                                     2018-01-18 00:00:00   \n",
       "1                                                     2018-03-10 00:00:00   \n",
       "2                                                     2018-02-17 00:00:00   \n",
       "3              Recebi bem antes do prazo estipulado.  2017-04-21 00:00:00   \n",
       "4  ParabÃ©ns lojas lannister adorei comprar pela ...  2018-03-01 00:00:00   \n",
       "\n",
       "  review_answer_timestamp  \n",
       "0     2018-01-18 21:46:59  \n",
       "1     2018-03-11 03:05:13  \n",
       "2     2018-02-18 14:36:24  \n",
       "3     2017-04-21 22:02:06  \n",
       "4     2018-03-02 10:26:53  "
      ]
     },
     "execution_count": 14,
     "metadata": {},
     "output_type": "execute_result"
    }
   ],
   "source": [
    "df_rev.head()"
   ]
  },
  {
   "cell_type": "markdown",
   "id": "aabb4617",
   "metadata": {},
   "source": [
    "# Data Preparation"
   ]
  },
  {
   "cell_type": "code",
   "execution_count": 15,
   "id": "d738f95a",
   "metadata": {},
   "outputs": [],
   "source": [
    "df_cat.rename(columns={\"ï»¿product_category_name\" :\"product_category_name\"}, inplace=True)"
   ]
  },
  {
   "cell_type": "code",
   "execution_count": 16,
   "id": "9d2b4daa",
   "metadata": {},
   "outputs": [],
   "source": [
    "dataframes = [df_cat, df_cust, df_geo, df_oditems, df_odpay, df_od, df_pro, df_sell]\n",
    "\n",
    "# Remove double quotes from table labels for each DataFrame\n",
    "for df in dataframes:\n",
    "    df.columns = df.columns.str.replace('\"', '')"
   ]
  },
  {
   "cell_type": "code",
   "execution_count": 17,
   "id": "e7b48d5b",
   "metadata": {},
   "outputs": [
    {
     "data": {
      "text/html": [
       "<div>\n",
       "<style scoped>\n",
       "    .dataframe tbody tr th:only-of-type {\n",
       "        vertical-align: middle;\n",
       "    }\n",
       "\n",
       "    .dataframe tbody tr th {\n",
       "        vertical-align: top;\n",
       "    }\n",
       "\n",
       "    .dataframe thead th {\n",
       "        text-align: right;\n",
       "    }\n",
       "</style>\n",
       "<table border=\"1\" class=\"dataframe\">\n",
       "  <thead>\n",
       "    <tr style=\"text-align: right;\">\n",
       "      <th></th>\n",
       "      <th>product_category_name</th>\n",
       "      <th>product_category_name_english</th>\n",
       "    </tr>\n",
       "  </thead>\n",
       "  <tbody>\n",
       "    <tr>\n",
       "      <th>0</th>\n",
       "      <td>beleza_saude</td>\n",
       "      <td>health_beauty\\r</td>\n",
       "    </tr>\n",
       "    <tr>\n",
       "      <th>1</th>\n",
       "      <td>informatica_acessorios</td>\n",
       "      <td>computers_accessories\\r</td>\n",
       "    </tr>\n",
       "    <tr>\n",
       "      <th>2</th>\n",
       "      <td>automotivo</td>\n",
       "      <td>auto\\r</td>\n",
       "    </tr>\n",
       "    <tr>\n",
       "      <th>3</th>\n",
       "      <td>cama_mesa_banho</td>\n",
       "      <td>bed_bath_table\\r</td>\n",
       "    </tr>\n",
       "    <tr>\n",
       "      <th>4</th>\n",
       "      <td>moveis_decoracao</td>\n",
       "      <td>furniture_decor\\r</td>\n",
       "    </tr>\n",
       "  </tbody>\n",
       "</table>\n",
       "</div>"
      ],
      "text/plain": [
       "    product_category_name product_category_name_english\n",
       "0            beleza_saude               health_beauty\\r\n",
       "1  informatica_acessorios       computers_accessories\\r\n",
       "2              automotivo                        auto\\r\n",
       "3         cama_mesa_banho              bed_bath_table\\r\n",
       "4        moveis_decoracao             furniture_decor\\r"
      ]
     },
     "execution_count": 17,
     "metadata": {},
     "output_type": "execute_result"
    }
   ],
   "source": [
    "df_cat.head()"
   ]
  },
  {
   "cell_type": "code",
   "execution_count": 18,
   "id": "793f4968",
   "metadata": {},
   "outputs": [
    {
     "name": "stdout",
     "output_type": "stream",
     "text": [
      "df_cat   \t 71 2\n",
      "df_cust   \t 99441 5\n",
      "df_geo   \t 1000163 5\n",
      "df_oditems   \t 112650 7\n",
      "df_odpay   \t 103886 5\n",
      "df_od   \t 99441 8\n",
      "df_pro   \t 32951 9\n",
      "df_sell   \t 3095 4\n",
      "df_rev   \t 279 7\n"
     ]
    }
   ],
   "source": [
    "# checking the dataset shape\n",
    "datasets = [df_cat, df_cust, df_geo, df_oditems, df_odpay, df_od, df_pro, df_sell, df_rev]\n",
    "data_name = ['df_cat', 'df_cust', 'df_geo', 'df_oditems', 'df_odpay', 'df_od', 'df_pro', 'df_sell','df_rev']\n",
    "\n",
    "for i in range(len(datasets)):\n",
    "    row, col = datasets[i].shape\n",
    "    print(data_name[i],'  \\t',row, col)\n"
   ]
  },
  {
   "cell_type": "code",
   "execution_count": 19,
   "id": "54f362c2",
   "metadata": {},
   "outputs": [
    {
     "name": "stdout",
     "output_type": "stream",
     "text": [
      "df_cat product_category_name            0\n",
      "product_category_name_english    0\n",
      "dtype: int64\n",
      "df_cust customer_id                 0\n",
      "customer_unique_id          0\n",
      "customer_zip_code_prefix    0\n",
      "customer_city               0\n",
      "customer_state              0\n",
      "dtype: int64\n",
      "df_geo geolocation_zip_code_prefix    0\n",
      "geolocation_lat                0\n",
      "geolocation_lng                0\n",
      "geolocation_city               0\n",
      "geolocation_state              0\n",
      "dtype: int64\n",
      "df_oditems order_id               0\n",
      "order_item_id          0\n",
      "product_id             0\n",
      "seller_id              0\n",
      "shipping_limit_date    0\n",
      "price                  0\n",
      "freight_value          0\n",
      "dtype: int64\n",
      "df_odpay order_id                0\n",
      "payment_sequential      0\n",
      "payment_type            0\n",
      "payment_installments    0\n",
      "payment_value           0\n",
      "dtype: int64\n",
      "df_od order_id                         0\n",
      "customer_id                      0\n",
      "order_status                     0\n",
      "order_purchase_timestamp         0\n",
      "order_approved_at                0\n",
      "order_delivered_carrier_date     0\n",
      "order_delivered_customer_date    0\n",
      "order_estimated_delivery_date    0\n",
      "dtype: int64\n",
      "df_pro product_id                    0\n",
      "product_category_name         0\n",
      "product_name_lenght           0\n",
      "product_description_lenght    0\n",
      "product_photos_qty            0\n",
      "product_weight_g              0\n",
      "product_length_cm             0\n",
      "product_height_cm             0\n",
      "product_width_cm              0\n",
      "dtype: int64\n",
      "df_sell seller_id                 0\n",
      "seller_zip_code_prefix    0\n",
      "seller_city               0\n",
      "seller_state              0\n",
      "dtype: int64\n",
      "df_rev review_id                  0\n",
      "order_id                   0\n",
      "review_score               0\n",
      "review_comment_title       0\n",
      "review_comment_message     0\n",
      "review_creation_date       0\n",
      "review_answer_timestamp    0\n",
      "dtype: int64\n"
     ]
    }
   ],
   "source": [
    "# checking for null values\n",
    "for i in range(len(datasets)):\n",
    "    df = datasets[i]\n",
    "    count_null = df.isnull().sum()\n",
    "    print(data_name[i], count_null)"
   ]
  },
  {
   "cell_type": "markdown",
   "id": "eba50e34",
   "metadata": {},
   "source": [
    "#### no null values if (any) it may be dropped while loading the data into MySQL server "
   ]
  },
  {
   "cell_type": "code",
   "execution_count": 20,
   "id": "82370a7b",
   "metadata": {},
   "outputs": [
    {
     "name": "stdout",
     "output_type": "stream",
     "text": [
      "df_cat 0\n",
      "df_cust 0\n",
      "df_geo 261831\n",
      "df_oditems 0\n",
      "df_odpay 0\n",
      "df_od 0\n",
      "df_pro 0\n",
      "df_sell 0\n",
      "df_rev 0\n"
     ]
    }
   ],
   "source": [
    "# check from duplicates\n",
    "for i in range(len(datasets)):\n",
    "    df = datasets[i]\n",
    "    dup_count = df.duplicated().sum()\n",
    "    print(data_name[i], dup_count)"
   ]
  },
  {
   "cell_type": "code",
   "execution_count": 21,
   "id": "84d1171a",
   "metadata": {},
   "outputs": [],
   "source": [
    "# drop the dulicated rows in df_geo dataset\n",
    "df.geo = df_geo.drop_duplicates(inplace=True)"
   ]
  },
  {
   "cell_type": "code",
   "execution_count": 22,
   "id": "f6267631",
   "metadata": {},
   "outputs": [
    {
     "data": {
      "text/plain": [
       "0"
      ]
     },
     "execution_count": 22,
     "metadata": {},
     "output_type": "execute_result"
    }
   ],
   "source": [
    "# check again for duplicates\n",
    "df_geo.duplicated().sum()"
   ]
  },
  {
   "cell_type": "code",
   "execution_count": 23,
   "id": "82882a58",
   "metadata": {},
   "outputs": [
    {
     "data": {
      "text/plain": [
       "credit_card    76795\n",
       "boleto         19784\n",
       "voucher         5775\n",
       "debit_card      1529\n",
       "not_defined        3\n",
       "Name: payment_type, dtype: int64"
      ]
     },
     "execution_count": 23,
     "metadata": {},
     "output_type": "execute_result"
    }
   ],
   "source": [
    "df_odpay.payment_type.value_counts()"
   ]
  },
  {
   "cell_type": "code",
   "execution_count": 24,
   "id": "885f88c1",
   "metadata": {},
   "outputs": [],
   "source": [
    "df_odpay = df_odpay.query('payment_type != \"not_defined\"')"
   ]
  },
  {
   "cell_type": "code",
   "execution_count": 25,
   "id": "119d7264",
   "metadata": {},
   "outputs": [
    {
     "data": {
      "text/plain": [
       "credit_card    76795\n",
       "boleto         19784\n",
       "voucher         5775\n",
       "debit_card      1529\n",
       "Name: payment_type, dtype: int64"
      ]
     },
     "execution_count": 25,
     "metadata": {},
     "output_type": "execute_result"
    }
   ],
   "source": [
    "df_odpay.payment_type.value_counts()"
   ]
  },
  {
   "cell_type": "markdown",
   "id": "37c407e4",
   "metadata": {},
   "source": [
    " # Exploratory Data analysis"
   ]
  },
  {
   "cell_type": "markdown",
   "id": "403310bb",
   "metadata": {},
   "source": [
    "## 1- What are the top and least categories ordered from sellers?"
   ]
  },
  {
   "cell_type": "code",
   "execution_count": 26,
   "id": "73fecee5",
   "metadata": {},
   "outputs": [],
   "source": [
    "# merge product and order items\n",
    "order_info = pd.merge(df_pro[['product_id','product_category_name']], \n",
    "                      df_oditems[['order_id','order_item_id', 'product_id']],\n",
    "                     on='product_id',how='inner')"
   ]
  },
  {
   "cell_type": "code",
   "execution_count": 27,
   "id": "f0cdbfda",
   "metadata": {},
   "outputs": [],
   "source": [
    "orders_eng = pd.merge(order_info, df_cat, on='product_category_name', how='inner')"
   ]
  },
  {
   "cell_type": "code",
   "execution_count": 28,
   "id": "0454b807",
   "metadata": {},
   "outputs": [
    {
     "data": {
      "text/html": [
       "<div>\n",
       "<style scoped>\n",
       "    .dataframe tbody tr th:only-of-type {\n",
       "        vertical-align: middle;\n",
       "    }\n",
       "\n",
       "    .dataframe tbody tr th {\n",
       "        vertical-align: top;\n",
       "    }\n",
       "\n",
       "    .dataframe thead th {\n",
       "        text-align: right;\n",
       "    }\n",
       "</style>\n",
       "<table border=\"1\" class=\"dataframe\">\n",
       "  <thead>\n",
       "    <tr style=\"text-align: right;\">\n",
       "      <th></th>\n",
       "      <th>product_id</th>\n",
       "      <th>product_category_name</th>\n",
       "      <th>order_id</th>\n",
       "      <th>order_item_id</th>\n",
       "      <th>product_category_name_english</th>\n",
       "    </tr>\n",
       "  </thead>\n",
       "  <tbody>\n",
       "    <tr>\n",
       "      <th>0</th>\n",
       "      <td>1e9e8ef04dbcff4541ed26657ea517e5</td>\n",
       "      <td>perfumaria</td>\n",
       "      <td>e17e4f88e31525f7deef66779844ddce</td>\n",
       "      <td>1</td>\n",
       "      <td>perfumery\\r</td>\n",
       "    </tr>\n",
       "    <tr>\n",
       "      <th>1</th>\n",
       "      <td>6a2fb4dd53d2cdb88e0432f1284a004c</td>\n",
       "      <td>perfumaria</td>\n",
       "      <td>048cc42e03ca8d43c729adf6962cb348</td>\n",
       "      <td>1</td>\n",
       "      <td>perfumery\\r</td>\n",
       "    </tr>\n",
       "    <tr>\n",
       "      <th>2</th>\n",
       "      <td>6a2fb4dd53d2cdb88e0432f1284a004c</td>\n",
       "      <td>perfumaria</td>\n",
       "      <td>5fa78e91b5cb84b6a8ccc42733f95742</td>\n",
       "      <td>1</td>\n",
       "      <td>perfumery\\r</td>\n",
       "    </tr>\n",
       "    <tr>\n",
       "      <th>3</th>\n",
       "      <td>0d009643171aee696f4733340bc2fdd0</td>\n",
       "      <td>perfumaria</td>\n",
       "      <td>24b1c4d88fdb7a2dc87f8ecc7d8f47f1</td>\n",
       "      <td>1</td>\n",
       "      <td>perfumery\\r</td>\n",
       "    </tr>\n",
       "    <tr>\n",
       "      <th>4</th>\n",
       "      <td>0d009643171aee696f4733340bc2fdd0</td>\n",
       "      <td>perfumaria</td>\n",
       "      <td>7b13c77c64a9a956500cbf1a9a23798d</td>\n",
       "      <td>1</td>\n",
       "      <td>perfumery\\r</td>\n",
       "    </tr>\n",
       "  </tbody>\n",
       "</table>\n",
       "</div>"
      ],
      "text/plain": [
       "                         product_id product_category_name  \\\n",
       "0  1e9e8ef04dbcff4541ed26657ea517e5            perfumaria   \n",
       "1  6a2fb4dd53d2cdb88e0432f1284a004c            perfumaria   \n",
       "2  6a2fb4dd53d2cdb88e0432f1284a004c            perfumaria   \n",
       "3  0d009643171aee696f4733340bc2fdd0            perfumaria   \n",
       "4  0d009643171aee696f4733340bc2fdd0            perfumaria   \n",
       "\n",
       "                           order_id order_item_id  \\\n",
       "0  e17e4f88e31525f7deef66779844ddce             1   \n",
       "1  048cc42e03ca8d43c729adf6962cb348             1   \n",
       "2  5fa78e91b5cb84b6a8ccc42733f95742             1   \n",
       "3  24b1c4d88fdb7a2dc87f8ecc7d8f47f1             1   \n",
       "4  7b13c77c64a9a956500cbf1a9a23798d             1   \n",
       "\n",
       "  product_category_name_english  \n",
       "0                   perfumery\\r  \n",
       "1                   perfumery\\r  \n",
       "2                   perfumery\\r  \n",
       "3                   perfumery\\r  \n",
       "4                   perfumery\\r  "
      ]
     },
     "execution_count": 28,
     "metadata": {},
     "output_type": "execute_result"
    }
   ],
   "source": [
    "orders_eng.head()"
   ]
  },
  {
   "cell_type": "code",
   "execution_count": 29,
   "id": "807ef891",
   "metadata": {},
   "outputs": [
    {
     "data": {
      "text/html": [
       "<div>\n",
       "<style scoped>\n",
       "    .dataframe tbody tr th:only-of-type {\n",
       "        vertical-align: middle;\n",
       "    }\n",
       "\n",
       "    .dataframe tbody tr th {\n",
       "        vertical-align: top;\n",
       "    }\n",
       "\n",
       "    .dataframe thead th {\n",
       "        text-align: right;\n",
       "    }\n",
       "</style>\n",
       "<table border=\"1\" class=\"dataframe\">\n",
       "  <thead>\n",
       "    <tr style=\"text-align: right;\">\n",
       "      <th></th>\n",
       "      <th>product_id</th>\n",
       "      <th>order_id</th>\n",
       "      <th>order_item_id</th>\n",
       "      <th>product_category_name_english</th>\n",
       "    </tr>\n",
       "  </thead>\n",
       "  <tbody>\n",
       "    <tr>\n",
       "      <th>0</th>\n",
       "      <td>1e9e8ef04dbcff4541ed26657ea517e5</td>\n",
       "      <td>e17e4f88e31525f7deef66779844ddce</td>\n",
       "      <td>1</td>\n",
       "      <td>perfumery\\r</td>\n",
       "    </tr>\n",
       "    <tr>\n",
       "      <th>1</th>\n",
       "      <td>6a2fb4dd53d2cdb88e0432f1284a004c</td>\n",
       "      <td>048cc42e03ca8d43c729adf6962cb348</td>\n",
       "      <td>1</td>\n",
       "      <td>perfumery\\r</td>\n",
       "    </tr>\n",
       "    <tr>\n",
       "      <th>2</th>\n",
       "      <td>6a2fb4dd53d2cdb88e0432f1284a004c</td>\n",
       "      <td>5fa78e91b5cb84b6a8ccc42733f95742</td>\n",
       "      <td>1</td>\n",
       "      <td>perfumery\\r</td>\n",
       "    </tr>\n",
       "    <tr>\n",
       "      <th>3</th>\n",
       "      <td>0d009643171aee696f4733340bc2fdd0</td>\n",
       "      <td>24b1c4d88fdb7a2dc87f8ecc7d8f47f1</td>\n",
       "      <td>1</td>\n",
       "      <td>perfumery\\r</td>\n",
       "    </tr>\n",
       "    <tr>\n",
       "      <th>4</th>\n",
       "      <td>0d009643171aee696f4733340bc2fdd0</td>\n",
       "      <td>7b13c77c64a9a956500cbf1a9a23798d</td>\n",
       "      <td>1</td>\n",
       "      <td>perfumery\\r</td>\n",
       "    </tr>\n",
       "  </tbody>\n",
       "</table>\n",
       "</div>"
      ],
      "text/plain": [
       "                         product_id                          order_id  \\\n",
       "0  1e9e8ef04dbcff4541ed26657ea517e5  e17e4f88e31525f7deef66779844ddce   \n",
       "1  6a2fb4dd53d2cdb88e0432f1284a004c  048cc42e03ca8d43c729adf6962cb348   \n",
       "2  6a2fb4dd53d2cdb88e0432f1284a004c  5fa78e91b5cb84b6a8ccc42733f95742   \n",
       "3  0d009643171aee696f4733340bc2fdd0  24b1c4d88fdb7a2dc87f8ecc7d8f47f1   \n",
       "4  0d009643171aee696f4733340bc2fdd0  7b13c77c64a9a956500cbf1a9a23798d   \n",
       "\n",
       "  order_item_id product_category_name_english  \n",
       "0             1                   perfumery\\r  \n",
       "1             1                   perfumery\\r  \n",
       "2             1                   perfumery\\r  \n",
       "3             1                   perfumery\\r  \n",
       "4             1                   perfumery\\r  "
      ]
     },
     "execution_count": 29,
     "metadata": {},
     "output_type": "execute_result"
    }
   ],
   "source": [
    "orders_eng.drop('product_category_name', axis=1, inplace=True)\n",
    "orders_eng.head()"
   ]
  },
  {
   "cell_type": "code",
   "execution_count": 30,
   "id": "96d1adbd",
   "metadata": {},
   "outputs": [
    {
     "name": "stderr",
     "output_type": "stream",
     "text": [
      "C:\\Users\\User\\anaconda3\\lib\\site-packages\\IPython\\core\\pylabtools.py:151: UserWarning: Glyph 13 (\r",
      ") missing from current font.\n",
      "  fig.canvas.print_figure(bytes_io, **kw)\n"
     ]
    },
    {
     "data": {
      "image/png": "[encoded data removed]",
      "text/plain": [
       "<Figure size 432x288 with 1 Axes>"
      ]
     },
     "metadata": {
      "needs_background": "light"
     },
     "output_type": "display_data"
    }
   ],
   "source": [
    "# top 5 categories ordered\n",
    "\n",
    "# Plotting the top 5 product categories\n",
    "top_categories = orders_eng['product_category_name_english'].value_counts().head()\n",
    "top_categories.plot(kind='bar', color='green', rot=45)\n",
    "\n",
    "# Adding labels and title\n",
    "plt.xlabel('Product Category')\n",
    "plt.ylabel('Count')\n",
    "plt.title('Top 5 Product Categories ordered')\n",
    "\n",
    "# Display the plot\n",
    "plt.show()"
   ]
  },
  {
   "cell_type": "code",
   "execution_count": 31,
   "id": "d3d6776c",
   "metadata": {},
   "outputs": [
    {
     "name": "stderr",
     "output_type": "stream",
     "text": [
      "C:\\Users\\User\\anaconda3\\lib\\site-packages\\IPython\\core\\pylabtools.py:151: UserWarning: Glyph 13 (\r",
      ") missing from current font.\n",
      "  fig.canvas.print_figure(bytes_io, **kw)\n"
     ]
    },
    {
     "data": {
      "image/png": "[encoded data removed]",
      "text/plain": [
       "<Figure size 432x288 with 1 Axes>"
      ]
     },
     "metadata": {
      "needs_background": "light"
     },
     "output_type": "display_data"
    }
   ],
   "source": [
    "# least 5 categories ordered\n",
    "\n",
    "# Plotting the top 5 product categories\n",
    "least_categories = orders_eng['product_category_name_english'].value_counts().tail()\n",
    "least_categories = least_categories.sort_values(ascending=True)\n",
    "least_categories.plot(kind='bar', color='green', rot=45)\n",
    "\n",
    "# Adding labels and title\n",
    "plt.xlabel('Product Category')\n",
    "plt.ylabel('Count')\n",
    "plt.title('least 5 Product Categories ordered')\n",
    "\n",
    "# Display the plot\n",
    "plt.show()"
   ]
  },
  {
   "cell_type": "markdown",
   "id": "f2d229dd",
   "metadata": {},
   "source": [
    "- Most ordered product category is bed bath table\n",
    "- Least ordered product category is security and services"
   ]
  },
  {
   "cell_type": "markdown",
   "id": "6fae2556",
   "metadata": {},
   "source": [
    "## 2- What is the order status?"
   ]
  },
  {
   "cell_type": "code",
   "execution_count": 32,
   "id": "675d4ebb",
   "metadata": {},
   "outputs": [
    {
     "data": {
      "text/plain": [
       "delivered      97.020344\n",
       "shipped         1.113223\n",
       "canceled        0.628513\n",
       "unavailable     0.612423\n",
       "invoiced        0.315765\n",
       "processing      0.302692\n",
       "created         0.005028\n",
       "approved        0.002011\n",
       "Name: order_status, dtype: float64"
      ]
     },
     "execution_count": 32,
     "metadata": {},
     "output_type": "execute_result"
    }
   ],
   "source": [
    "# order status percentage\n",
    "((df_od.order_status.value_counts()/df_od.shape[0])*100)"
   ]
  },
  {
   "cell_type": "code",
   "execution_count": 33,
   "id": "c696df90",
   "metadata": {},
   "outputs": [
    {
     "data": {
      "image/png": "[encoded data removed]",
      "text/plain": [
       "<Figure size 576x576 with 1 Axes>"
      ]
     },
     "metadata": {},
     "output_type": "display_data"
    }
   ],
   "source": [
    "first_order_status_percentage = (df_od['order_status'].value_counts() / df_od.shape[0] * 100)[0]\n",
    "\n",
    "# Create a DataFrame with the first order status and its complement\n",
    "data = pd.DataFrame({'Percentage': [first_order_status_percentage, 100 - first_order_status_percentage]},\n",
    "                    index=['Delivered Status', 'Other Status'])\n",
    "\n",
    "# Plotting a pie chart\n",
    "plt.figure(figsize=(8, 8))\n",
    "plt.pie(data['Percentage'], labels=data.index, autopct='%1.2f%%', startangle=140, colors=['coral', 'grey'])\n",
    "\n",
    "\n",
    "plt.title('Percentage of Delivered Status & The Other Status')\n",
    "plt.show()"
   ]
  },
  {
   "cell_type": "code",
   "execution_count": 34,
   "id": "3104b3d8",
   "metadata": {},
   "outputs": [
    {
     "data": {
      "image/png": "[encoded data removed]",
      "text/plain": [
       "<Figure size 720x432 with 1 Axes>"
      ]
     },
     "metadata": {
      "needs_background": "light"
     },
     "output_type": "display_data"
    }
   ],
   "source": [
    "order_status_counts = (df_od.query('order_status != \"delivered\"').order_status.value_counts()/df_od.shape[0])*100\n",
    "\n",
    "# Plotting a bar chart\n",
    "plt.figure(figsize=(10, 6))\n",
    "order_status_counts.plot(kind='bar', rot=45)\n",
    "\n",
    "plt.xlabel('Order Status')\n",
    "plt.ylabel('percentage')\n",
    "plt.title('Distribution of The Other Order Status')\n",
    "plt.show()"
   ]
  },
  {
   "cell_type": "code",
   "execution_count": 35,
   "id": "ada59d08",
   "metadata": {},
   "outputs": [
    {
     "data": {
      "text/plain": [
       "canceled       625\n",
       "unavailable    609\n",
       "Name: order_status, dtype: int64"
      ]
     },
     "execution_count": 35,
     "metadata": {},
     "output_type": "execute_result"
    }
   ],
   "source": [
    "df_od.query('order_status == \"canceled\" or order_status == \"unavailable\"').order_status.value_counts()"
   ]
  },
  {
   "cell_type": "code",
   "execution_count": 36,
   "id": "884655ca",
   "metadata": {},
   "outputs": [
    {
     "data": {
      "text/plain": [
       "0.629"
      ]
     },
     "execution_count": 36,
     "metadata": {},
     "output_type": "execute_result"
    }
   ],
   "source": [
    "round((df_od.query('order_status == \"canceled\"').order_status.value_counts()[0]/df_od.shape[0])*100,3)"
   ]
  },
  {
   "cell_type": "code",
   "execution_count": 37,
   "id": "f76f2929",
   "metadata": {},
   "outputs": [
    {
     "data": {
      "text/plain": [
       "0.612"
      ]
     },
     "execution_count": 37,
     "metadata": {},
     "output_type": "execute_result"
    }
   ],
   "source": [
    "round((df_od.query('order_status == \"unavailable\"').order_status.value_counts()[0]/df_od.shape[0])*100,3)"
   ]
  },
  {
   "cell_type": "markdown",
   "id": "f1d6db13",
   "metadata": {},
   "source": [
    "- Most of the orders are delivered with 97.02%\n",
    "- The percentage of an order to get canceled is 0.629%\n",
    "- The percentage of an order to be unavailable is 0.612%"
   ]
  },
  {
   "cell_type": "markdown",
   "id": "9f3d5cb0",
   "metadata": {},
   "source": [
    "## 3- Which is the most used type of payment?"
   ]
  },
  {
   "cell_type": "code",
   "execution_count": 38,
   "id": "fab4fe1a",
   "metadata": {},
   "outputs": [
    {
     "data": {
      "text/plain": [
       "credit_card    73.924511\n",
       "boleto         19.044502\n",
       "voucher         5.559139\n",
       "debit_card      1.471848\n",
       "Name: payment_type, dtype: float64"
      ]
     },
     "execution_count": 38,
     "metadata": {},
     "output_type": "execute_result"
    }
   ],
   "source": [
    "# calculating the percentage of each value\n",
    "(df_odpay.payment_type.value_counts() / df_odpay.shape[0]) * 100"
   ]
  },
  {
   "cell_type": "code",
   "execution_count": 39,
   "id": "b0c11b2f",
   "metadata": {},
   "outputs": [
    {
     "data": {
      "image/png": "[encoded data removed]",
      "text/plain": [
       "<Figure size 576x576 with 1 Axes>"
      ]
     },
     "metadata": {},
     "output_type": "display_data"
    }
   ],
   "source": [
    "payment_type_percentage = (df_odpay['payment_type'].value_counts() / df_odpay.shape[0]) * 100\n",
    "\n",
    "# Get the payment types\n",
    "payment_types = payment_type_percentage.head()\n",
    "\n",
    "plt.figure(figsize=(8, 8))\n",
    "plt.pie(payment_types, labels=payment_types.index, autopct='%1.2f%%', startangle=160)\n",
    "plt.title('Percentage Distribution of Payment Types')\n",
    "plt.show()"
   ]
  },
  {
   "cell_type": "markdown",
   "id": "b1c66af5",
   "metadata": {},
   "source": [
    "- Most of the orders are paid using credit cards with a 73.92%"
   ]
  },
  {
   "cell_type": "markdown",
   "id": "36fafd8c",
   "metadata": {},
   "source": [
    "## 4- what are the top 10 cities that have most sellers and customers?"
   ]
  },
  {
   "cell_type": "code",
   "execution_count": 40,
   "id": "7abff913",
   "metadata": {},
   "outputs": [
    {
     "data": {
      "text/plain": [
       "sao paulo         694\n",
       "curitiba          127\n",
       "rio de janeiro     96\n",
       "belo horizonte     68\n",
       "ribeirao preto     52\n",
       "guarulhos          50\n",
       "ibitinga           49\n",
       "santo andre        45\n",
       "campinas           41\n",
       "maringa            40\n",
       "Name: seller_city, dtype: int64"
      ]
     },
     "execution_count": 40,
     "metadata": {},
     "output_type": "execute_result"
    }
   ],
   "source": [
    "df_sell.seller_city.value_counts().head(10)"
   ]
  },
  {
   "cell_type": "code",
   "execution_count": 41,
   "id": "ccdbbc12",
   "metadata": {},
   "outputs": [
    {
     "data": {
      "text/plain": [
       "sao paulo                15540\n",
       "rio de janeiro            6882\n",
       "belo horizonte            2773\n",
       "brasilia                  2131\n",
       "curitiba                  1521\n",
       "campinas                  1444\n",
       "porto alegre              1379\n",
       "salvador                  1245\n",
       "guarulhos                 1189\n",
       "sao bernardo do campo      938\n",
       "Name: customer_city, dtype: int64"
      ]
     },
     "execution_count": 41,
     "metadata": {},
     "output_type": "execute_result"
    }
   ],
   "source": [
    "df_cust.customer_city.value_counts().head(10)"
   ]
  },
  {
   "cell_type": "code",
   "execution_count": 42,
   "id": "3e254fd1",
   "metadata": {},
   "outputs": [
    {
     "data": {
      "image/png": "[encoded data removed]",
      "text/plain": [
       "<Figure size 1008x432 with 1 Axes>"
      ]
     },
     "metadata": {
      "needs_background": "light"
     },
     "output_type": "display_data"
    }
   ],
   "source": [
    "top_seller_cities = df_sell['seller_city'].value_counts().head(10)\n",
    "\n",
    "# Plotting a bar chart\n",
    "plt.figure(figsize=(14, 6))\n",
    "top_seller_cities.plot(kind='bar', color='lightblue',rot=15)\n",
    "\n",
    "# Adding labels and title\n",
    "plt.xlabel('Seller City')\n",
    "plt.ylabel('Count')\n",
    "plt.title('Top 10 Seller Cities')\n",
    "plt.show()"
   ]
  },
  {
   "cell_type": "code",
   "execution_count": 43,
   "id": "0cd551d7",
   "metadata": {},
   "outputs": [
    {
     "data": {
      "image/png": "[encoded data removed]",
      "text/plain": [
       "<Figure size 864x432 with 1 Axes>"
      ]
     },
     "metadata": {
      "needs_background": "light"
     },
     "output_type": "display_data"
    }
   ],
   "source": [
    "top_customer_cities = df_cust['customer_city'].value_counts().head(10)\n",
    "\n",
    "# Plotting a bar chart\n",
    "plt.figure(figsize=(12, 6))\n",
    "top_customer_cities.plot(kind='bar', color='lightgrey',rot=15)\n",
    "\n",
    "plt.xlabel('Customer City')\n",
    "plt.ylabel('Count')\n",
    "plt.title('Top 10 Customer Cities')\n",
    "plt.show()"
   ]
  },
  {
   "cell_type": "markdown",
   "id": "39799340",
   "metadata": {},
   "source": [
    "- sao paulo has the most sellers and customers"
   ]
  },
  {
   "cell_type": "markdown",
   "id": "b97ee7f5",
   "metadata": {},
   "source": [
    "## 5- Which city has the highest order cancellation?"
   ]
  },
  {
   "cell_type": "code",
   "execution_count": 44,
   "id": "565cbf27",
   "metadata": {},
   "outputs": [],
   "source": [
    "cust_od = pd.merge(df_cust[['customer_id','customer_city']], \n",
    "                      df_od[['order_id','customer_id','order_status']],\n",
    "                     on='customer_id',how='inner')"
   ]
  },
  {
   "cell_type": "code",
   "execution_count": 45,
   "id": "1cc5af43",
   "metadata": {},
   "outputs": [
    {
     "data": {
      "text/html": [
       "<div>\n",
       "<style scoped>\n",
       "    .dataframe tbody tr th:only-of-type {\n",
       "        vertical-align: middle;\n",
       "    }\n",
       "\n",
       "    .dataframe tbody tr th {\n",
       "        vertical-align: top;\n",
       "    }\n",
       "\n",
       "    .dataframe thead th {\n",
       "        text-align: right;\n",
       "    }\n",
       "</style>\n",
       "<table border=\"1\" class=\"dataframe\">\n",
       "  <thead>\n",
       "    <tr style=\"text-align: right;\">\n",
       "      <th></th>\n",
       "      <th>customer_id</th>\n",
       "      <th>customer_city</th>\n",
       "      <th>order_id</th>\n",
       "      <th>order_status</th>\n",
       "    </tr>\n",
       "  </thead>\n",
       "  <tbody>\n",
       "    <tr>\n",
       "      <th>0</th>\n",
       "      <td>06b8999e2fba1a1fbc88172c00ba8bc7</td>\n",
       "      <td>franca</td>\n",
       "      <td>00e7ee1b050b8499577073aeb2a297a1</td>\n",
       "      <td>delivered</td>\n",
       "    </tr>\n",
       "    <tr>\n",
       "      <th>1</th>\n",
       "      <td>18955e83d337fd6b2def6b18a428ac77</td>\n",
       "      <td>sao bernardo do campo</td>\n",
       "      <td>29150127e6685892b6eab3eec79f59c7</td>\n",
       "      <td>delivered</td>\n",
       "    </tr>\n",
       "    <tr>\n",
       "      <th>2</th>\n",
       "      <td>4e7b3e00288586ebd08712fdd0374a03</td>\n",
       "      <td>sao paulo</td>\n",
       "      <td>b2059ed67ce144a36e2aa97d2c9e9ad2</td>\n",
       "      <td>delivered</td>\n",
       "    </tr>\n",
       "    <tr>\n",
       "      <th>3</th>\n",
       "      <td>b2b6027bc5c5109e529d4dc6358b12c3</td>\n",
       "      <td>mogi das cruzes</td>\n",
       "      <td>951670f92359f4fe4a63112aa7306eba</td>\n",
       "      <td>delivered</td>\n",
       "    </tr>\n",
       "    <tr>\n",
       "      <th>4</th>\n",
       "      <td>4f2d8ab171c80ec8364f7c12e35b23ad</td>\n",
       "      <td>campinas</td>\n",
       "      <td>6b7d50bd145f6fc7f33cebabd7e49d0f</td>\n",
       "      <td>delivered</td>\n",
       "    </tr>\n",
       "  </tbody>\n",
       "</table>\n",
       "</div>"
      ],
      "text/plain": [
       "                        customer_id          customer_city  \\\n",
       "0  06b8999e2fba1a1fbc88172c00ba8bc7                 franca   \n",
       "1  18955e83d337fd6b2def6b18a428ac77  sao bernardo do campo   \n",
       "2  4e7b3e00288586ebd08712fdd0374a03              sao paulo   \n",
       "3  b2b6027bc5c5109e529d4dc6358b12c3        mogi das cruzes   \n",
       "4  4f2d8ab171c80ec8364f7c12e35b23ad               campinas   \n",
       "\n",
       "                           order_id order_status  \n",
       "0  00e7ee1b050b8499577073aeb2a297a1    delivered  \n",
       "1  29150127e6685892b6eab3eec79f59c7    delivered  \n",
       "2  b2059ed67ce144a36e2aa97d2c9e9ad2    delivered  \n",
       "3  951670f92359f4fe4a63112aa7306eba    delivered  \n",
       "4  6b7d50bd145f6fc7f33cebabd7e49d0f    delivered  "
      ]
     },
     "execution_count": 45,
     "metadata": {},
     "output_type": "execute_result"
    }
   ],
   "source": [
    "cust_od.head()"
   ]
  },
  {
   "cell_type": "code",
   "execution_count": 46,
   "id": "0533d495",
   "metadata": {},
   "outputs": [
    {
     "data": {
      "text/plain": [
       "sao paulo                140\n",
       "rio de janeiro            48\n",
       "belo horizonte            17\n",
       "guarulhos                 13\n",
       "campinas                  11\n",
       "curitiba                  10\n",
       "sao bernardo do campo      8\n",
       "osasco                     8\n",
       "brasilia                   7\n",
       "goiania                    7\n",
       "sorocaba                   7\n",
       "jundiai                    6\n",
       "santo andre                6\n",
       "florianopolis              5\n",
       "porto alegre               5\n",
       "fortaleza                  4\n",
       "salvador                   4\n",
       "vila velha                 4\n",
       "contagem                   4\n",
       "governador valadares       4\n",
       "Name: customer_city, dtype: int64"
      ]
     },
     "execution_count": 46,
     "metadata": {},
     "output_type": "execute_result"
    }
   ],
   "source": [
    "# Filter data for canceled orders\n",
    "canceled_orders = cust_od[cust_od['order_status'] == 'canceled']\n",
    "\n",
    "# Get the canceled order distribution by customer city\n",
    "canceled_orders_by_city = canceled_orders['customer_city'].value_counts().head(20)\n",
    "canceled_orders_by_city"
   ]
  },
  {
   "cell_type": "code",
   "execution_count": 47,
   "id": "ac1b9ca8",
   "metadata": {},
   "outputs": [
    {
     "data": {
      "text/plain": [
       "Text(0.5, 1.0, 'Distribution of Canceled Orders by top 20 Customer City')"
      ]
     },
     "execution_count": 47,
     "metadata": {},
     "output_type": "execute_result"
    },
    {
     "data": {
      "image/png": "[encoded data removed]",
      "text/plain": [
       "<Figure size 1224x432 with 1 Axes>"
      ]
     },
     "metadata": {
      "needs_background": "light"
     },
     "output_type": "display_data"
    }
   ],
   "source": [
    "canceled_orders_by_city.plot(kind='bar', color='lightblue', figsize=(17, 6),rot=55)\n",
    "plt.xlabel('Customer City')\n",
    "plt.ylabel('Count')\n",
    "plt.title('Distribution of Canceled Orders by top 20 Customer City')"
   ]
  },
  {
   "cell_type": "markdown",
   "id": "6dd19182",
   "metadata": {},
   "source": [
    "- sao paulo has the most order cancellation with 140 cancels \n",
    "- rio de janeiro comes in the second place with 48 cancels"
   ]
  },
  {
   "cell_type": "markdown",
   "id": "2bf88b8b",
   "metadata": {},
   "source": [
    "# Conculsion"
   ]
  },
  {
   "cell_type": "markdown",
   "id": "4ec416b5",
   "metadata": {},
   "source": [
    "- Most ordered product category is bed bath table\n",
    "- Least ordered product category is security and services\n",
    "- Most of the orders are delivered with 97.02%\n",
    "- The percentage of an order to get canceled is 0.629%\n",
    "- The percentage of an order to be unavailable is 0.612%\n",
    "- Most of the orders are paid using credit cards with a 73.92%\n",
    "- Sao Paulo has the most sellers and customers\n",
    "- Sao Paulo has the most order cancellation with 140 cancels \n",
    "- Rio de Janeiro comes in the second place with 48 cancels"
   ]
  },
  {
   "cell_type": "code",
   "execution_count": null,
   "id": "f8326df1",
   "metadata": {},
   "outputs": [],
   "source": []
  }
 ],
 "metadata": {
  "kernelspec": {
   "display_name": "Python 3 (ipykernel)",
   "language": "python",
   "name": "python3"
  },
  "language_info": {
   "codemirror_mode": {
    "name": "ipython",
    "version": 3
   },
   "file_extension": ".py",
   "mimetype": "text/x-python",
   "name": "python",
   "nbconvert_exporter": "python",
   "pygments_lexer": "ipython3",
   "version": "3.9.12"
  }
 },
 "nbformat": 4,
 "nbformat_minor": 5
}
